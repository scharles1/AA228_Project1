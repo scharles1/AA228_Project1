{
 "cells": [
  {
   "cell_type": "code",
   "execution_count": 51,
   "metadata": {},
   "outputs": [
    {
     "name": "stdout",
     "output_type": "stream",
     "text": [
      "Current Score: -4168.965750\n",
      "-4168.965749582872New Best Score: -4169\n",
      "Edge 3 => 1\n",
      "\n",
      "Current Score: -4163.659938\n",
      "-4163.659938203361New Best Score: -4164\n",
      "Edge 3 => 1\n",
      "Edge 3 => 2\n",
      "\n",
      "Current Score: -4162.774942\n",
      "-4162.774941809115New Best Score: -4163\n",
      "Edge 3 => 1\n",
      "Edge 3 => 2\n",
      "Edge 3 => 4\n",
      "\n",
      "Current Score: -4140.990521\n",
      "-4140.99052148224New Best Score: -4141\n",
      "Edge 3 => 1\n",
      "Edge 3 => 2\n",
      "Edge 3 => 4\n",
      "Edge 3 => 5\n",
      "\n",
      "Current Score: -4139.695796\n",
      "-4139.695796132548New Best Score: -4140\n",
      "Edge 3 => 1\n",
      "Edge 3 => 2\n",
      "Edge 3 => 4\n",
      "Edge 3 => 5\n",
      "Edge 3 => 6\n",
      "\n",
      "Current Score: -4143.308178\n",
      "Current Score: -4140.554143\n",
      "Current Score: -4144.375602\n",
      "Current Score: -4139.973880\n",
      "Current Score: -4142.977540\n",
      "Current Score: -4146.219644\n",
      "Current Score: -4106.639554\n",
      "-4106.63955449087New Best Score: -4107\n",
      "Edge 3 => 1\n",
      "Edge 3 => 2\n",
      "Edge 3 => 4\n",
      "Edge 3 => 5\n",
      "Edge 3 => 6\n",
      "Edge 8 => 1\n",
      "Edge 8 => 2\n",
      "Edge 8 => 3\n",
      "Edge 8 => 4\n",
      "Edge 8 => 5\n",
      "\n",
      "Current Score: -3976.602223\n",
      "-3976.602222955277New Best Score: -3977\n",
      "Edge 3 => 1\n",
      "Edge 3 => 2\n",
      "Edge 3 => 4\n",
      "Edge 3 => 5\n",
      "Edge 3 => 6\n",
      "Edge 8 => 1\n",
      "Edge 8 => 2\n",
      "Edge 8 => 3\n",
      "Edge 8 => 4\n",
      "Edge 8 => 5\n",
      "Edge 8 => 6\n",
      "\n",
      "Current Score: -3977.376503\n",
      "Current Score: -3948.714458\n",
      "-3948.714458115294New Best Score: -3949\n",
      "Edge 3 => 1\n",
      "Edge 3 => 2\n",
      "Edge 3 => 4\n",
      "Edge 3 => 5\n",
      "Edge 3 => 6\n",
      "Edge 5 => 1\n",
      "Edge 8 => 1\n",
      "Edge 8 => 2\n",
      "Edge 8 => 3\n",
      "Edge 8 => 4\n",
      "Edge 8 => 5\n",
      "Edge 8 => 6\n",
      "\n",
      "Current Score: -3912.534899\n",
      "-3912.534899326128New Best Score: -3913\n",
      "Edge 3 => 1\n",
      "Edge 3 => 2\n",
      "Edge 3 => 4\n",
      "Edge 3 => 5\n",
      "Edge 3 => 6\n",
      "Edge 5 => 1\n",
      "Edge 5 => 2\n",
      "Edge 8 => 1\n",
      "Edge 8 => 2\n",
      "Edge 8 => 3\n",
      "Edge 8 => 4\n",
      "Edge 8 => 5\n",
      "Edge 8 => 6\n",
      "\n",
      "Current Score: -3928.007082\n",
      "Current Score: -3921.133036\n",
      "Current Score: -3921.042426\n",
      "Current Score: -3916.147281\n",
      "Current Score: -3917.691962\n",
      "Current Score: -3933.164145\n",
      "Current Score: -3926.290099\n",
      "Current Score: -3938.391915\n",
      "Current Score: -3920.521871\n",
      "Current Score: -3916.575036\n",
      "Current Score: -3920.057614\n",
      "Current Score: -3883.900934\n",
      "-3883.9009340349303New Best Score: -3884\n",
      "Edge 3 => 1\n",
      "Edge 3 => 2\n",
      "Edge 3 => 4\n",
      "Edge 3 => 5\n",
      "Edge 3 => 6\n",
      "Edge 3 => 7\n",
      "Edge 5 => 1\n",
      "Edge 5 => 2\n",
      "Edge 5 => 4\n",
      "Edge 5 => 6\n",
      "Edge 7 => 1\n",
      "Edge 7 => 2\n",
      "Edge 7 => 4\n",
      "Edge 8 => 1\n",
      "Edge 8 => 2\n",
      "Edge 8 => 3\n",
      "Edge 8 => 4\n",
      "Edge 8 => 5\n",
      "Edge 8 => 6\n",
      "Edge 8 => 7\n",
      "\n",
      "Current Score: -3880.109832\n",
      "-3880.109832028076New Best Score: -3880\n",
      "Edge 3 => 1\n",
      "Edge 3 => 2\n",
      "Edge 3 => 4\n",
      "Edge 3 => 5\n",
      "Edge 3 => 6\n",
      "Edge 3 => 7\n",
      "Edge 5 => 1\n",
      "Edge 5 => 2\n",
      "Edge 5 => 4\n",
      "Edge 5 => 6\n",
      "Edge 7 => 1\n",
      "Edge 7 => 2\n",
      "Edge 7 => 4\n",
      "Edge 7 => 5\n",
      "Edge 8 => 1\n",
      "Edge 8 => 2\n",
      "Edge 8 => 3\n",
      "Edge 8 => 4\n",
      "Edge 8 => 5\n",
      "Edge 8 => 6\n",
      "Edge 8 => 7\n",
      "\n",
      "Current Score: -3880.264895\n",
      "Current Score: -3892.250866\n",
      "Current Score: -3922.639927\n",
      "Current Score: -3931.842943\n",
      "Current Score: -3924.924968\n",
      "Current Score: -3952.513293\n",
      "Current Score: -3961.716309\n",
      "Current Score: -3980.469106\n",
      "Current Score: -3933.627773\n",
      "Current Score: -3946.400640\n",
      "Current Score: -3944.528957\n",
      "Current Score: -3949.175969\n",
      "Current Score: -3944.054500\n",
      "Current Score: -3956.646187\n",
      "Current Score: -3928.781362\n",
      "Current Score: -3923.075803\n",
      "Current Score: -3932.378150\n",
      "Current Score: -3915.134762\n",
      "Current Score: -3878.905559\n",
      "-3878.90555885793New Best Score: -3879\n",
      "Edge 3 => 1\n",
      "Edge 3 => 2\n",
      "Edge 3 => 4\n",
      "Edge 3 => 5\n",
      "Edge 3 => 6\n",
      "Edge 4 => 1\n",
      "Edge 4 => 2\n",
      "Edge 4 => 6\n",
      "Edge 4 => 7\n",
      "Edge 5 => 1\n",
      "Edge 5 => 2\n",
      "Edge 5 => 4\n",
      "Edge 8 => 1\n",
      "Edge 8 => 2\n",
      "Edge 8 => 3\n",
      "Edge 8 => 4\n",
      "Edge 8 => 5\n",
      "Edge 8 => 6\n",
      "Edge 8 => 7\n",
      "\n",
      "Current Score: -3888.055605\n",
      "Current Score: -3912.282914\n",
      "Current Score: -3926.825056\n",
      "Current Score: -3929.051476\n",
      "Current Score: -3941.635194\n",
      "Current Score: -3945.538856\n",
      "Current Score: -3916.201757\n",
      "Current Score: -3930.743899\n",
      "Current Score: -3932.970319\n",
      "Current Score: -3943.451503\n",
      "Current Score: -3941.579820\n",
      "Current Score: -3945.483483\n",
      "Current Score: -3928.767513\n",
      "Current Score: -3944.324171\n",
      "Current Score: -3952.255464\n",
      "Current Score: -3969.025473\n",
      "Current Score: -3971.926798\n",
      "Current Score: -3987.983606\n",
      "Current Score: -3949.146712\n",
      "Current Score: -3961.730430\n",
      "Current Score: -3959.858747\n",
      "Current Score: -3952.476182\n",
      "Current Score: -3956.379844\n",
      "Current Score: -3947.971836\n",
      "Current Score: -3947.168180\n",
      "Current Score: -3948.165662\n",
      "Current Score: -3967.295195\n",
      "Current Score: -3973.281935\n",
      "Current Score: -3976.016251\n",
      "Current Score: -3946.375312\n",
      "Current Score: -3973.963637\n",
      "Current Score: -3983.166654\n",
      "Current Score: -3932.686356\n",
      "Current Score: -3941.988704\n",
      "Current Score: -3922.721129\n",
      "Current Score: -3956.852516\n",
      "Current Score: -3993.505110\n",
      "Current Score: -4010.275119\n",
      "Current Score: -3937.201297\n",
      "Current Score: -3945.599446\n",
      "Current Score: -3953.404747\n",
      "Current Score: -3917.248067\n",
      "Current Score: -3913.456965\n",
      "Current Score: -3915.969612\n",
      "Current Score: -3917.360628\n"
     ]
    },
    {
     "ename": "LoadError",
     "evalue": "LoadError: \u001b[91mInterruptException:\u001b[39m\nwhile loading /Users/scharles/Documents/Classes/AA 228/Project1/project1.jl, in expression starting on line 290",
     "output_type": "error",
     "traceback": [
      "LoadError: \u001b[91mInterruptException:\u001b[39m\nwhile loading /Users/scharles/Documents/Classes/AA 228/Project1/project1.jl, in expression starting on line 290",
      "",
      "Stacktrace:",
      " [1] \u001b[1mfind\u001b[22m\u001b[22m\u001b[1m(\u001b[22m\u001b[22m::##445#447{Int64,Array{Array{Integer,1},1}}, ::DataArrays.DataArray{Int64,1}\u001b[1m)\u001b[22m\u001b[22m at \u001b[1m./array.jl:1458\u001b[22m\u001b[22m",
      " [2] \u001b[1mgetM\u001b[22m\u001b[22m\u001b[1m(\u001b[22m\u001b[22m::DataFrames.DataFrame, ::Int64, ::Int64, ::Int64, ::Array{Integer,1}, ::Array{Array{Integer,1},1}\u001b[1m)\u001b[22m\u001b[22m at \u001b[1m/Users/scharles/Documents/Classes/AA 228/Project1/project1.jl:224\u001b[22m\u001b[22m",
      " [3] \u001b[1mbayesianScoreComponent\u001b[22m\u001b[22m\u001b[1m(\u001b[22m\u001b[22m::DataFrames.DataFrame, ::Int64, ::Array{Integer,1}, ::Array{Array{Integer,1},1}\u001b[1m)\u001b[22m\u001b[22m at \u001b[1m/Users/scharles/Documents/Classes/AA 228/Project1/project1.jl:206\u001b[22m\u001b[22m",
      " [4] \u001b[1mbayesianScore\u001b[22m\u001b[22m\u001b[1m(\u001b[22m\u001b[22m::LightGraphs.SimpleGraphs.SimpleDiGraph{Int64}, ::DataFrames.DataFrame\u001b[1m)\u001b[22m\u001b[22m at \u001b[1m/Users/scharles/Documents/Classes/AA 228/Project1/project1.jl:183\u001b[22m\u001b[22m",
      " [5] \u001b[1mrunSethSearch\u001b[22m\u001b[22m\u001b[1m(\u001b[22m\u001b[22m::LightGraphs.SimpleGraphs.SimpleDiGraph{Int64}, ::DataFrames.DataFrame\u001b[1m)\u001b[22m\u001b[22m at \u001b[1m/Users/scharles/Documents/Classes/AA 228/Project1/project1.jl:109\u001b[22m\u001b[22m",
      " [6] \u001b[1mcompute\u001b[22m\u001b[22m\u001b[1m(\u001b[22m\u001b[22m::String, ::String\u001b[1m)\u001b[22m\u001b[22m at \u001b[1m/Users/scharles/Documents/Classes/AA 228/Project1/project1.jl:29\u001b[22m\u001b[22m",
      " [7] \u001b[1minclude_from_node1\u001b[22m\u001b[22m\u001b[1m(\u001b[22m\u001b[22m::String\u001b[1m)\u001b[22m\u001b[22m at \u001b[1m./loading.jl:569\u001b[22m\u001b[22m",
      " [8] \u001b[1minclude\u001b[22m\u001b[22m\u001b[1m(\u001b[22m\u001b[22m::String\u001b[1m)\u001b[22m\u001b[22m at \u001b[1m./sysimg.jl:14\u001b[22m\u001b[22m",
      " [9] \u001b[1minclude_string\u001b[22m\u001b[22m\u001b[1m(\u001b[22m\u001b[22m::String, ::String\u001b[1m)\u001b[22m\u001b[22m at \u001b[1m./loading.jl:515\u001b[22m\u001b[22m"
     ]
    }
   ],
   "source": [
    "include(\"project1.jl\")"
   ]
  },
  {
   "cell_type": "code",
   "execution_count": null,
   "metadata": {
    "collapsed": true
   },
   "outputs": [],
   "source": [
    "g = Set{Integer}()\n",
    "push!(g,1,2,3,4,5)"
   ]
  },
  {
   "cell_type": "code",
   "execution_count": null,
   "metadata": {
    "collapsed": true
   },
   "outputs": [],
   "source": [
    "g = Set{DiGraph}()"
   ]
  },
  {
   "cell_type": "code",
   "execution_count": 159,
   "metadata": {},
   "outputs": [
    {
     "data": {
      "text/plain": [
       "Edge 1 => 2"
      ]
     },
     "execution_count": 159,
     "metadata": {},
     "output_type": "execute_result"
    }
   ],
   "source": [
    "g = DiGraph(5)\n",
    "add_edge!(g,1,4)\n",
    "e = Edge(1,2)"
   ]
  },
  {
   "cell_type": "code",
   "execution_count": null,
   "metadata": {
    "collapsed": true
   },
   "outputs": [],
   "source": [
    "q = Vector{Integer}()\n",
    "prepend!(q,1)\n",
    "prepend!(q,2)\n",
    "prepend!(q,3)\n",
    "prepend!(q,4)\n",
    "pop!(q)"
   ]
  },
  {
   "cell_type": "code",
   "execution_count": null,
   "metadata": {
    "collapsed": true
   },
   "outputs": [],
   "source": [
    "graphs2Search = Vector{DiGraph}()\n",
    "unshift!(graphs2Search,DiGraph(3))\n",
    "unshift!(graphs2Search,DiGraph(4))\n",
    "unshift!(graphs2Search,DiGraph(5))\n",
    "unshift!(graphs2Search,DiGraph(6))\n",
    "show(graphs2Search)"
   ]
  },
  {
   "cell_type": "code",
   "execution_count": 150,
   "metadata": {},
   "outputs": [
    {
     "data": {
      "text/plain": [
       "{5, 0} directed simple Int64 graph"
      ]
     },
     "execution_count": 150,
     "metadata": {},
     "output_type": "execute_result"
    }
   ],
   "source": [
    "using DataStructures\n",
    "g = DiGraph(5)\n",
    "g2 = DiGraph(6)\n",
    "pq = PriorityQueue(Base.Order.Reverse)\n",
    "enqueue!(pq, g, 1.0)\n",
    "enqueue!(pq, g2, -1.0345)\n",
    "dequeue!(pq)\n"
   ]
  },
  {
   "cell_type": "code",
   "execution_count": 4,
   "metadata": {},
   "outputs": [
    {
     "ename": "LoadError",
     "evalue": "\u001b[91mUndefVarError: UniformPrior not defined\u001b[39m",
     "output_type": "error",
     "traceback": [
      "\u001b[91mUndefVarError: UniformPrior not defined\u001b[39m",
      "",
      "Stacktrace:",
      " [1] \u001b[1minclude_string\u001b[22m\u001b[22m\u001b[1m(\u001b[22m\u001b[22m::String, ::String\u001b[1m)\u001b[22m\u001b[22m at \u001b[1m./loading.jl:515\u001b[22m\u001b[22m"
     ]
    }
   ],
   "source": [
    "p = UniformPrior()"
   ]
  },
  {
   "cell_type": "code",
   "execution_count": 22,
   "metadata": {},
   "outputs": [
    {
     "data": {
      "text/plain": [
       "7"
      ]
     },
     "execution_count": 22,
     "metadata": {},
     "output_type": "execute_result"
    }
   ],
   "source": [
    "parents = Vector{Integer}([1,2,3,4,5,6,7,7])\n",
    "length(unique(parents))"
   ]
  },
  {
   "cell_type": "code",
   "execution_count": 178,
   "metadata": {},
   "outputs": [
    {
     "data": {
      "text/plain": [
       "889"
      ]
     },
     "execution_count": 178,
     "metadata": {},
     "output_type": "execute_result"
    }
   ],
   "source": [
    "data = readtable(\"small.csv\")\n",
    "#2:size(data)[1]\n",
    "counts = 1:size(data)[1]\n",
    "counts = intersect(counts,find(m->m==1,data[1]))\n",
    "find(m->m==1,data[1])\n",
    "size(data)[1]"
   ]
  },
  {
   "cell_type": "code",
   "execution_count": 13,
   "metadata": {},
   "outputs": [
    {
     "data": {
      "text/plain": [
       "359.13420536957545"
      ]
     },
     "execution_count": 13,
     "metadata": {},
     "output_type": "execute_result"
    }
   ],
   "source": [
    "lgamma(100)"
   ]
  },
  {
   "cell_type": "code",
   "execution_count": 18,
   "metadata": {},
   "outputs": [
    {
     "data": {
      "text/plain": [
       "4-element Array{Integer,1}:\n",
       " 2\n",
       " 4\n",
       " 6\n",
       " 8"
      ]
     },
     "execution_count": 18,
     "metadata": {},
     "output_type": "execute_result"
    }
   ],
   "source": [
    "v1 = Vector{Integer}([1,2,3,4,5,6,7,8,9])\n",
    "v2 = Vector{Integer}([2,4,6,8,19])\n",
    "intersect(v1,v2)"
   ]
  },
  {
   "cell_type": "code",
   "execution_count": 34,
   "metadata": {},
   "outputs": [
    {
     "name": "stdout",
     "output_type": "stream",
     "text": [
      "Integer[1, 3]"
     ]
    }
   ],
   "source": [
    "parentInstance = Vector{Integer}(2)\n",
    "parentInstance[1] = 1\n",
    "parentInstance[2] = 3\n",
    "show(parentInstance)"
   ]
  },
  {
   "cell_type": "code",
   "execution_count": 66,
   "metadata": {},
   "outputs": [
    {
     "data": {
      "text/plain": [
       "0.0"
      ]
     },
     "execution_count": 66,
     "metadata": {},
     "output_type": "execute_result"
    }
   ],
   "source": [
    "lgamma(1)"
   ]
  },
  {
   "cell_type": "code",
   "execution_count": 167,
   "metadata": {},
   "outputs": [
    {
     "data": {
      "text/plain": [
       "0"
      ]
     },
     "execution_count": 167,
     "metadata": {},
     "output_type": "execute_result"
    }
   ],
   "source": [
    "pq = PriorityQueue()\n",
    "length(pq)"
   ]
  },
  {
   "cell_type": "code",
   "execution_count": 168,
   "metadata": {},
   "outputs": [
    {
     "data": {
      "text/plain": [
       "6"
      ]
     },
     "execution_count": 168,
     "metadata": {},
     "output_type": "execute_result"
    }
   ],
   "source": [
    "rand(1:10)"
   ]
  }
 ],
 "metadata": {
  "kernelspec": {
   "display_name": "Julia 0.6.0",
   "language": "julia",
   "name": "julia-0.6"
  },
  "language_info": {
   "file_extension": ".jl",
   "mimetype": "application/julia",
   "name": "julia",
   "version": "0.6.0"
  }
 },
 "nbformat": 4,
 "nbformat_minor": 2
}
