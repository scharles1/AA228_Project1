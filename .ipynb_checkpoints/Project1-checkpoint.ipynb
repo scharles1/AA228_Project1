{
 "cells": [
  {
   "cell_type": "code",
   "execution_count": null,
   "metadata": {},
   "outputs": [
    {
     "name": "stdout",
     "output_type": "stream",
     "text": [
      "Edge 3 => 1\n",
      "-45313.283158283004\n",
      "\n",
      "-45329.70191684462\n",
      "\n",
      "Edge 3 => 1\n",
      "Edge 4 => 2\n",
      "-45312.62201130436\n",
      "\n",
      "-45322.00926394345\n",
      "\n",
      "Edge 3 => 1\n",
      "Edge 4 => 2\n",
      "Edge 5 => 3\n",
      "-45305.39944694347\n",
      "\n",
      "-45317.5512489142\n",
      "\n",
      "-45326.58519868087\n",
      "\n",
      "-45339.925522241785\n",
      "\n",
      "-45311.455151782415\n",
      "\n",
      "-45336.11836257349\n",
      "\n",
      "-45322.68099570146\n",
      "\n",
      "Edge 3 => 1\n",
      "Edge 4 => 2\n",
      "Edge 5 => 3\n",
      "Edge 11 => 9\n",
      "-45246.843674464944\n",
      "\n",
      "-45298.64954419075\n",
      "\n",
      "Edge 3 => 1\n",
      "Edge 4 => 2\n",
      "Edge 5 => 3\n",
      "Edge 11 => 9\n",
      "Edge 12 => 10\n",
      "-45236.77134106993\n",
      "\n",
      "-45265.11117974404\n",
      "\n",
      "Edge 1 => 11\n",
      "Edge 3 => 1\n",
      "Edge 4 => 2\n",
      "Edge 5 => 3\n",
      "Edge 11 => 9\n",
      "Edge 12 => 10\n",
      "-45181.13358094609\n",
      "\n",
      "Edge 1 => 11\n",
      "Edge 2 => 11\n",
      "Edge 3 => 1\n",
      "Edge 4 => 2\n",
      "Edge 5 => 3\n",
      "Edge 11 => 9\n",
      "Edge 12 => 10\n",
      "-45099.26555185013\n",
      "\n",
      "Edge 1 => 11\n",
      "Edge 2 => 11\n",
      "Edge 3 => 1\n",
      "Edge 3 => 11\n",
      "Edge 4 => 2\n",
      "Edge 5 => 3\n",
      "Edge 11 => 9\n",
      "Edge 12 => 10\n",
      "-45095.148833483785\n",
      "\n",
      "Edge 1 => 11\n",
      "Edge 2 => 11\n",
      "Edge 3 => 1\n",
      "Edge 3 => 11\n",
      "Edge 4 => 2\n",
      "Edge 4 => 11\n",
      "Edge 5 => 3\n",
      "Edge 11 => 9\n",
      "Edge 12 => 10\n",
      "-44758.94453233921\n",
      "\n",
      "Edge 1 => 11\n",
      "Edge 2 => 11\n",
      "Edge 3 => 1\n",
      "Edge 3 => 11\n",
      "Edge 4 => 2\n",
      "Edge 4 => 11\n",
      "Edge 5 => 3\n",
      "Edge 5 => 11\n",
      "Edge 11 => 9\n",
      "Edge 12 => 10\n",
      "-44744.23318967733\n",
      "\n"
     ]
    }
   ],
   "source": [
    "include(\"project1.jl\")"
   ]
  },
  {
   "cell_type": "code",
   "execution_count": null,
   "metadata": {
    "collapsed": true
   },
   "outputs": [],
   "source": [
    "g = Set{Integer}()\n",
    "push!(g,1,2,3,4,5)"
   ]
  },
  {
   "cell_type": "code",
   "execution_count": null,
   "metadata": {
    "collapsed": true
   },
   "outputs": [],
   "source": [
    "g = Set{DiGraph}()"
   ]
  },
  {
   "cell_type": "code",
   "execution_count": 159,
   "metadata": {},
   "outputs": [
    {
     "data": {
      "text/plain": [
       "Edge 1 => 2"
      ]
     },
     "execution_count": 159,
     "metadata": {},
     "output_type": "execute_result"
    }
   ],
   "source": [
    "g = DiGraph(5)\n",
    "add_edge!(g,1,4)\n",
    "e = Edge(1,2)"
   ]
  },
  {
   "cell_type": "code",
   "execution_count": null,
   "metadata": {
    "collapsed": true
   },
   "outputs": [],
   "source": [
    "q = Vector{Integer}()\n",
    "prepend!(q,1)\n",
    "prepend!(q,2)\n",
    "prepend!(q,3)\n",
    "prepend!(q,4)\n",
    "pop!(q)"
   ]
  },
  {
   "cell_type": "code",
   "execution_count": null,
   "metadata": {
    "collapsed": true
   },
   "outputs": [],
   "source": [
    "graphs2Search = Vector{DiGraph}()\n",
    "unshift!(graphs2Search,DiGraph(3))\n",
    "unshift!(graphs2Search,DiGraph(4))\n",
    "unshift!(graphs2Search,DiGraph(5))\n",
    "unshift!(graphs2Search,DiGraph(6))\n",
    "show(graphs2Search)"
   ]
  },
  {
   "cell_type": "code",
   "execution_count": 150,
   "metadata": {},
   "outputs": [
    {
     "data": {
      "text/plain": [
       "{5, 0} directed simple Int64 graph"
      ]
     },
     "execution_count": 150,
     "metadata": {},
     "output_type": "execute_result"
    }
   ],
   "source": [
    "using DataStructures\n",
    "g = DiGraph(5)\n",
    "g2 = DiGraph(6)\n",
    "pq = PriorityQueue(Base.Order.Reverse)\n",
    "enqueue!(pq, g, 1.0)\n",
    "enqueue!(pq, g2, -1.0345)\n",
    "dequeue!(pq)\n"
   ]
  },
  {
   "cell_type": "code",
   "execution_count": 4,
   "metadata": {},
   "outputs": [
    {
     "ename": "LoadError",
     "evalue": "\u001b[91mUndefVarError: UniformPrior not defined\u001b[39m",
     "output_type": "error",
     "traceback": [
      "\u001b[91mUndefVarError: UniformPrior not defined\u001b[39m",
      "",
      "Stacktrace:",
      " [1] \u001b[1minclude_string\u001b[22m\u001b[22m\u001b[1m(\u001b[22m\u001b[22m::String, ::String\u001b[1m)\u001b[22m\u001b[22m at \u001b[1m./loading.jl:515\u001b[22m\u001b[22m"
     ]
    }
   ],
   "source": [
    "p = UniformPrior()"
   ]
  },
  {
   "cell_type": "code",
   "execution_count": 22,
   "metadata": {},
   "outputs": [
    {
     "data": {
      "text/plain": [
       "7"
      ]
     },
     "execution_count": 22,
     "metadata": {},
     "output_type": "execute_result"
    }
   ],
   "source": [
    "parents = Vector{Integer}([1,2,3,4,5,6,7,7])\n",
    "length(unique(parents))"
   ]
  },
  {
   "cell_type": "code",
   "execution_count": 178,
   "metadata": {},
   "outputs": [
    {
     "data": {
      "text/plain": [
       "889"
      ]
     },
     "execution_count": 178,
     "metadata": {},
     "output_type": "execute_result"
    }
   ],
   "source": [
    "data = readtable(\"small.csv\")\n",
    "#2:size(data)[1]\n",
    "counts = 1:size(data)[1]\n",
    "counts = intersect(counts,find(m->m==1,data[1]))\n",
    "find(m->m==1,data[1])\n",
    "size(data)[1]"
   ]
  },
  {
   "cell_type": "code",
   "execution_count": 13,
   "metadata": {},
   "outputs": [
    {
     "data": {
      "text/plain": [
       "359.13420536957545"
      ]
     },
     "execution_count": 13,
     "metadata": {},
     "output_type": "execute_result"
    }
   ],
   "source": [
    "lgamma(100)"
   ]
  },
  {
   "cell_type": "code",
   "execution_count": 18,
   "metadata": {},
   "outputs": [
    {
     "data": {
      "text/plain": [
       "4-element Array{Integer,1}:\n",
       " 2\n",
       " 4\n",
       " 6\n",
       " 8"
      ]
     },
     "execution_count": 18,
     "metadata": {},
     "output_type": "execute_result"
    }
   ],
   "source": [
    "v1 = Vector{Integer}([1,2,3,4,5,6,7,8,9])\n",
    "v2 = Vector{Integer}([2,4,6,8,19])\n",
    "intersect(v1,v2)"
   ]
  },
  {
   "cell_type": "code",
   "execution_count": 34,
   "metadata": {},
   "outputs": [
    {
     "name": "stdout",
     "output_type": "stream",
     "text": [
      "Integer[1, 3]"
     ]
    }
   ],
   "source": [
    "parentInstance = Vector{Integer}(2)\n",
    "parentInstance[1] = 1\n",
    "parentInstance[2] = 3\n",
    "show(parentInstance)"
   ]
  },
  {
   "cell_type": "code",
   "execution_count": 66,
   "metadata": {},
   "outputs": [
    {
     "data": {
      "text/plain": [
       "0.0"
      ]
     },
     "execution_count": 66,
     "metadata": {},
     "output_type": "execute_result"
    }
   ],
   "source": [
    "lgamma(1)"
   ]
  },
  {
   "cell_type": "code",
   "execution_count": 167,
   "metadata": {},
   "outputs": [
    {
     "data": {
      "text/plain": [
       "0"
      ]
     },
     "execution_count": 167,
     "metadata": {},
     "output_type": "execute_result"
    }
   ],
   "source": [
    "pq = PriorityQueue()\n",
    "length(pq)"
   ]
  },
  {
   "cell_type": "code",
   "execution_count": 168,
   "metadata": {},
   "outputs": [
    {
     "data": {
      "text/plain": [
       "6"
      ]
     },
     "execution_count": 168,
     "metadata": {},
     "output_type": "execute_result"
    }
   ],
   "source": [
    "rand(1:10)"
   ]
  },
  {
   "cell_type": "code",
   "execution_count": null,
   "metadata": {
    "collapsed": true
   },
   "outputs": [],
   "source": []
  },
  {
   "cell_type": "code",
   "execution_count": null,
   "metadata": {
    "collapsed": true
   },
   "outputs": [],
   "source": []
  }
 ],
 "metadata": {
  "kernelspec": {
   "display_name": "Julia 0.6.0",
   "language": "julia",
   "name": "julia-0.6"
  },
  "language_info": {
   "file_extension": ".jl",
   "mimetype": "application/julia",
   "name": "julia",
   "version": "0.6.0"
  }
 },
 "nbformat": 4,
 "nbformat_minor": 2
}
