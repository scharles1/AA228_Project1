{
 "cells": [
  {
   "cell_type": "code",
   "execution_count": null,
   "metadata": {},
   "outputs": [
    {
     "name": "stdout",
     "output_type": "stream",
     "text": [
      "CurrScore: -45313\n",
      "New Best Score: -45313\n",
      "citricacid, fixedacidity\n",
      "\n",
      "CurrScore: -45330\n",
      "CurrScore: -45329\n",
      "CurrScore: -45338\n",
      "CurrScore: -45331\n",
      "CurrScore: "
     ]
    }
   ],
   "source": [
    "include(\"project1.jl\")"
   ]
  },
  {
   "cell_type": "code",
   "execution_count": null,
   "metadata": {
    "collapsed": true
   },
   "outputs": [],
   "source": [
    "g = Set{Integer}()\n",
    "push!(g,1,2,3,4,5)"
   ]
  },
  {
   "cell_type": "code",
   "execution_count": null,
   "metadata": {
    "collapsed": true
   },
   "outputs": [],
   "source": [
    "g = Set{DiGraph}()"
   ]
  },
  {
   "cell_type": "code",
   "execution_count": null,
   "metadata": {},
   "outputs": [],
   "source": [
    "g = DiGraph(5)\n",
    "add_edge!(g,1,4)\n",
    "e = Edge(1,2)"
   ]
  },
  {
   "cell_type": "code",
   "execution_count": null,
   "metadata": {
    "collapsed": true
   },
   "outputs": [],
   "source": [
    "q = Vector{Integer}()\n",
    "prepend!(q,1)\n",
    "prepend!(q,2)\n",
    "prepend!(q,3)\n",
    "prepend!(q,4)\n",
    "pop!(q)"
   ]
  },
  {
   "cell_type": "code",
   "execution_count": null,
   "metadata": {
    "collapsed": true
   },
   "outputs": [],
   "source": [
    "graphs2Search = Vector{DiGraph}()\n",
    "unshift!(graphs2Search,DiGraph(3))\n",
    "unshift!(graphs2Search,DiGraph(4))\n",
    "unshift!(graphs2Search,DiGraph(5))\n",
    "unshift!(graphs2Search,DiGraph(6))\n",
    "show(graphs2Search)"
   ]
  },
  {
   "cell_type": "code",
   "execution_count": null,
   "metadata": {},
   "outputs": [],
   "source": [
    "using DataStructures\n",
    "g = DiGraph(5)\n",
    "g2 = DiGraph(6)\n",
    "pq = PriorityQueue(Base.Order.Reverse)\n",
    "enqueue!(pq, g, 1.0)\n",
    "enqueue!(pq, g2, -1.0345)\n",
    "dequeue!(pq)\n"
   ]
  },
  {
   "cell_type": "code",
   "execution_count": null,
   "metadata": {},
   "outputs": [],
   "source": [
    "p = UniformPrior()"
   ]
  },
  {
   "cell_type": "code",
   "execution_count": null,
   "metadata": {},
   "outputs": [],
   "source": [
    "parents = Vector{Integer}([1,2,3,4,5,6,7,7])\n",
    "length(unique(parents))"
   ]
  },
  {
   "cell_type": "code",
   "execution_count": null,
   "metadata": {},
   "outputs": [],
   "source": [
    "data = readtable(\"small.csv\")\n",
    "#2:size(data)[1]\n",
    "counts = 1:size(data)[1]\n",
    "counts = intersect(counts,find(m->m==1,data[1]))\n",
    "find(m->m==1,data[1])\n",
    "size(data)[1]"
   ]
  },
  {
   "cell_type": "code",
   "execution_count": null,
   "metadata": {},
   "outputs": [],
   "source": [
    "lgamma(100)"
   ]
  },
  {
   "cell_type": "code",
   "execution_count": null,
   "metadata": {},
   "outputs": [],
   "source": [
    "v1 = Vector{Integer}([1,2,3,4,5,6,7,8,9])\n",
    "v2 = Vector{Integer}([2,4,6,8,19])\n",
    "intersect(v1,v2)"
   ]
  },
  {
   "cell_type": "code",
   "execution_count": null,
   "metadata": {},
   "outputs": [],
   "source": [
    "parentInstance = Vector{Integer}(2)\n",
    "parentInstance[1] = 1\n",
    "parentInstance[2] = 3\n",
    "show(parentInstance)"
   ]
  },
  {
   "cell_type": "code",
   "execution_count": null,
   "metadata": {},
   "outputs": [],
   "source": [
    "lgamma(1)"
   ]
  },
  {
   "cell_type": "code",
   "execution_count": null,
   "metadata": {},
   "outputs": [],
   "source": [
    "pq = PriorityQueue()\n",
    "length(pq)"
   ]
  },
  {
   "cell_type": "code",
   "execution_count": null,
   "metadata": {},
   "outputs": [],
   "source": [
    "rand(1:10)"
   ]
  },
  {
   "cell_type": "code",
   "execution_count": null,
   "metadata": {},
   "outputs": [],
   "source": [
    "b = [[1,2],[3,4],[5,6]]\n",
    "a = collect(Iterators.product(enumerate(b)))\n"
   ]
  },
  {
   "cell_type": "code",
   "execution_count": null,
   "metadata": {},
   "outputs": [],
   "source": [
    "a = Vertex(1)"
   ]
  },
  {
   "cell_type": "code",
   "execution_count": null,
   "metadata": {},
   "outputs": [],
   "source": [
    "visited = Vector{Integer}([1,2])"
   ]
  },
  {
   "cell_type": "code",
   "execution_count": null,
   "metadata": {},
   "outputs": [],
   "source": [
    "data = [[1,2,3],[1,2,3,4],[1,2,3,4,5],[1,2,3,4,5,6]]\n",
    "nInstances = Array([maximum(data[i]) for i = 1:4])\n",
    "getIndex()"
   ]
  },
  {
   "cell_type": "code",
   "execution_count": null,
   "metadata": {},
   "outputs": [],
   "source": [
    "x = Array{Integer}([1,2,3,4,5,6])\n",
    "deleteat!(x, find(y->y == 3, x))\n",
    "show(x)"
   ]
  },
  {
   "cell_type": "code",
   "execution_count": null,
   "metadata": {},
   "outputs": [],
   "source": [
    "Edge(3,2)"
   ]
  },
  {
   "cell_type": "code",
   "execution_count": null,
   "metadata": {
    "collapsed": true
   },
   "outputs": [],
   "source": []
  }
 ],
 "metadata": {
  "kernelspec": {
   "display_name": "Julia 0.6.0",
   "language": "julia",
   "name": "julia-0.6"
  },
  "language_info": {
   "file_extension": ".jl",
   "mimetype": "application/julia",
   "name": "julia",
   "version": "0.6.0"
  }
 },
 "nbformat": 4,
 "nbformat_minor": 2
}
